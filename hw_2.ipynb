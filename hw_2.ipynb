{
 "metadata": {
  "language_info": {
   "codemirror_mode": {
    "name": "ipython",
    "version": 3
   },
   "file_extension": ".py",
   "mimetype": "text/x-python",
   "name": "python",
   "nbconvert_exporter": "python",
   "pygments_lexer": "ipython3",
   "version": "3.8.3-final"
  },
  "orig_nbformat": 2,
  "kernelspec": {
   "name": "Python 3.8.3 64-bit ('base': conda)",
   "display_name": "Python 3.8.3 64-bit ('base': conda)",
   "metadata": {
    "interpreter": {
     "hash": "e134e05457d34029b6460cd73bbf1ed73f339b5b6d98c95be70b69eba114fe95"
    }
   }
  }
 },
 "nbformat": 4,
 "nbformat_minor": 2,
 "cells": [
  {
   "source": [
    "# Programming Exercises"
   ],
   "cell_type": "markdown",
   "metadata": {}
  },
  {
   "cell_type": "code",
   "execution_count": 5,
   "metadata": {},
   "outputs": [],
   "source": [
    "import pandas as pd\n",
    "import numpy as np\n",
    "from sklearn.model_selection import train_test_split"
   ]
  },
  {
   "cell_type": "code",
   "execution_count": 6,
   "metadata": {},
   "outputs": [],
   "source": [
    "df_train = pd.read_csv(\"train.csv\")\n",
    "df_test = pd.read_csv(\"test.csv\")"
   ]
  },
  {
   "cell_type": "code",
   "execution_count": 7,
   "metadata": {},
   "outputs": [
    {
     "output_type": "stream",
     "name": "stdout",
     "text": [
      "Training set size: 7613 (Distaters: 3271, Other: 4342)\nTesting set size: 3263\n"
     ]
    }
   ],
   "source": [
    "df_size = len(df_train)\n",
    "disasters_size = len(df_train[df_train.target == 1])\n",
    "print(f\"Training set size: {df_size} (Distaters: {disasters_size}, Other: {df_size-disasters_size})\")\n",
    "\n",
    "df_test_size = len(df_test)\n",
    "print(f\"Testing set size: {df_test_size}\")"
   ]
  },
  {
   "source": [
    "## 1\n",
    "### a\n",
    "7613 Training Points (3271 Disasters), 3263 Testing Points"
   ],
   "cell_type": "markdown",
   "metadata": {}
  },
  {
   "cell_type": "code",
   "execution_count": 9,
   "metadata": {},
   "outputs": [],
   "source": [
    "# ID is uselesss and Location may bee too noisy\n",
    "df_train = df_train.drop(columns=[\"id\", \"location\"])\n",
    "df_test = df_test.drop(columns=[\"id\", \"location\"])"
   ]
  },
  {
   "cell_type": "code",
   "execution_count": 10,
   "metadata": {},
   "outputs": [],
   "source": [
    "from nltk.tokenize import word_tokenize\n",
    "from nltk.corpus import stopwords\n",
    "from nltk.corpus import words as englishwords\n",
    "from nltk.stem import WordNetLemmatizer\n",
    "def tokenize(string, lower=True, punctuation=True, stops=True, lemmatize=True, check_english=True):\n",
    "    stop_words = set(stopwords.words(\"english\"))\n",
    "    english_words = set(englishwords.words())\n",
    "    words = word_tokenize(string)\n",
    "    lzr = WordNetLemmatizer() \n",
    "\n",
    "    if lower:\n",
    "        words = [w.lower() for w in words]\n",
    "    if punctuation:\n",
    "        words = [w for w in words if w.isalnum()]\n",
    "    if stops:\n",
    "        words = [w for w in words if w not in stop_words]\n",
    "    if lemmatize:\n",
    "        words = [lzr.lemmatize(w) for w in words]\n",
    "    # Takes long to run, use with caution\n",
    "    if check_english:\n",
    "        words = [w for w in words if w in english_words]\n",
    "    return words"
   ]
  },
  {
   "cell_type": "code",
   "execution_count": 11,
   "metadata": {},
   "outputs": [],
   "source": [
    "from nltk.stem import WordNetLemmatizer\n",
    "lzr = WordNetLemmatizer()\n",
    "df_test.text = df_test.text.apply(lambda x: tokenize(x))\n",
    "df_test.keywords = df_test.keyword.apply(lambda x: x.lower() if isinstance(x, str) else x)"
   ]
  },
  {
   "cell_type": "code",
   "execution_count": 12,
   "metadata": {},
   "outputs": [],
   "source": [
    "df_test.to_csv(\"filtered_test.csv\")"
   ]
  },
  {
   "source": [
    "## Run from here"
   ],
   "cell_type": "markdown",
   "metadata": {}
  },
  {
   "cell_type": "code",
   "execution_count": 13,
   "metadata": {},
   "outputs": [],
   "source": [
    "import pandas as pd\n",
    "import numpy as np\n",
    "from sklearn.model_selection import train_test_split\n",
    "df = pd.read_csv(\"filtered_train.csv\", index_col=False)\n",
    "df = df.rename(columns={\"target\": \"is_disaster\"})"
   ]
  },
  {
   "cell_type": "code",
   "execution_count": 14,
   "metadata": {},
   "outputs": [],
   "source": [
    "from sklearn.feature_extraction.text import CountVectorizer\n",
    "vectorizer = CountVectorizer(binary=True, min_df=5)\n",
    "sample = df.text.iloc[0]\n",
    "X = vectorizer.fit_transform(df.text.values)\n",
    "bag_of_words = pd.DataFrame(X.toarray(), columns=vectorizer.get_feature_names())\n",
    "df = pd.concat([df.drop(columns=\"Unnamed: 0\"), bag_of_words], axis=1, join=\"inner\")"
   ]
  },
  {
   "cell_type": "code",
   "execution_count": 15,
   "metadata": {},
   "outputs": [],
   "source": [
    "X_train, X_dev, y_train, y_dev = train_test_split(df.drop(columns=[\"is_disaster\", \"keyword\", \"text\"]), df.is_disaster, train_size=0.7, random_state=37)"
   ]
  },
  {
   "cell_type": "code",
   "execution_count": 16,
   "metadata": {},
   "outputs": [],
   "source": [
    "from sklearn.metrics import classification_report"
   ]
  },
  {
   "source": [
    "### Logistic Regression"
   ],
   "cell_type": "markdown",
   "metadata": {}
  },
  {
   "cell_type": "code",
   "execution_count": 362,
   "metadata": {},
   "outputs": [
    {
     "output_type": "stream",
     "name": "stdout",
     "text": [
      "              precision    recall  f1-score   support\n\n           0       0.79      0.85      0.82      1317\n           1       0.77      0.69      0.73       967\n\n    accuracy                           0.78      2284\n   macro avg       0.78      0.77      0.77      2284\nweighted avg       0.78      0.78      0.78      2284\n\n"
     ]
    }
   ],
   "source": [
    "from sklearn.linear_model import LogisticRegression\n",
    "clf = LogisticRegression(random_state=37).fit(X_train, y_train)\n",
    "print(classification_report(y_dev, clf.predict(X_dev)))"
   ]
  },
  {
   "source": [
    "### Linear SVM"
   ],
   "cell_type": "markdown",
   "metadata": {}
  },
  {
   "cell_type": "code",
   "execution_count": 363,
   "metadata": {},
   "outputs": [
    {
     "output_type": "stream",
     "name": "stdout",
     "text": [
      "              precision    recall  f1-score   support\n\n           0       0.78      0.79      0.79      1317\n           1       0.71      0.70      0.70       967\n\n    accuracy                           0.75      2284\n   macro avg       0.75      0.74      0.74      2284\nweighted avg       0.75      0.75      0.75      2284\n\n"
     ]
    }
   ],
   "source": [
    "from sklearn.svm import LinearSVC\n",
    "lsvm = LinearSVC(random_state=37).fit(X_train, y_train)\n",
    "print(classification_report(y_dev, lsvm.predict(X_dev)))"
   ]
  },
  {
   "source": [
    "### Non-Linear SVM"
   ],
   "cell_type": "markdown",
   "metadata": {}
  },
  {
   "cell_type": "code",
   "execution_count": 364,
   "metadata": {},
   "outputs": [
    {
     "output_type": "stream",
     "name": "stdout",
     "text": [
      "              precision    recall  f1-score   support\n\n           0       0.78      0.91      0.84      1317\n           1       0.85      0.64      0.73       967\n\n    accuracy                           0.80      2284\n   macro avg       0.81      0.78      0.79      2284\nweighted avg       0.81      0.80      0.79      2284\n\n"
     ]
    }
   ],
   "source": [
    "from sklearn.svm import SVC\n",
    "svm = SVC(random_state=37, C=1).fit(X_train, y_train)\n",
    "print(classification_report(y_dev, svm.predict(X_dev)))"
   ]
  },
  {
   "source": [
    "### Naive Bayes"
   ],
   "cell_type": "markdown",
   "metadata": {}
  },
  {
   "cell_type": "code",
   "execution_count": 17,
   "metadata": {},
   "outputs": [],
   "source": [
    "import numpy as np\n",
    "from numba import njit\n",
    "\n",
    "class NaiveBayes:\n",
    "    # Bernoulli Naive Bayes Classifer using Pandas\n",
    "    def fit(self, X: pd.DataFrame, y: pd.Series):\n",
    "        self.classes = np.unique(y)\n",
    "        self.means = X.groupby(y).mean().clip(1e-14, 1-1e-14) # psis\n",
    "        self.priors = X.groupby(y).apply(lambda x: len(x)) / X.shape[0] # phis\n",
    "        return self\n",
    "    \n",
    "    def predict(self, X):\n",
    "        # Feature Length\n",
    "        len_features = X.shape[0]\n",
    "\n",
    "        # Calculate log values\n",
    "        log_means = self.means.apply(np.log)\n",
    "        log_means_minus = (1-self.means).apply(np.log)\n",
    "        log_priors = self.priors.apply(np.log)\n",
    "\n",
    "        # Containers\n",
    "        conditional_probs = np.zeros((self.classes.size, len_features))\n",
    "\n",
    "        # Calculate log probabilities for each class\n",
    "        for i in range(self.classes.size):\n",
    "            log_probability = X*log_means.iloc[i] + (1-X)*log_means_minus.iloc[i]\n",
    "            log_sum = log_probability.sum(axis=1) + log_priors.loc[i]\n",
    "            conditional_probs[i] = log_sum\n",
    "\n",
    "        return conditional_probs.argmax(axis=0)"
   ]
  },
  {
   "cell_type": "code",
   "execution_count": 366,
   "metadata": {},
   "outputs": [
    {
     "output_type": "stream",
     "name": "stdout",
     "text": [
      "              precision    recall  f1-score   support\n\n           0       0.79      0.84      0.81      1317\n           1       0.76      0.69      0.72       967\n\n    accuracy                           0.77      2284\n   macro avg       0.77      0.76      0.77      2284\nweighted avg       0.77      0.77      0.77      2284\n\n"
     ]
    }
   ],
   "source": [
    "nb = NaiveBayes().fit(X_train, y_train)\n",
    "print(classification_report(y_dev, nb.predict(X_dev)))"
   ]
  },
  {
   "cell_type": "code",
   "execution_count": 367,
   "metadata": {},
   "outputs": [
    {
     "output_type": "stream",
     "name": "stdout",
     "text": [
      "              precision    recall  f1-score   support\n\n           0       0.79      0.87      0.83      1317\n           1       0.79      0.69      0.74       967\n\n    accuracy                           0.79      2284\n   macro avg       0.79      0.78      0.78      2284\nweighted avg       0.79      0.79      0.79      2284\n\n"
     ]
    }
   ],
   "source": [
    "# Test SKLearn Implementation\n",
    "from sklearn.naive_bayes import BernoulliNB\n",
    "sk_nb = BernoulliNB().fit(X_train, y_train)\n",
    "print(classification_report(y_dev, sk_nb.predict(X_dev)))"
   ]
  },
  {
   "cell_type": "code",
   "execution_count": 368,
   "metadata": {},
   "outputs": [],
   "source": [
    "df = pd.read_csv(\"filtered_train.csv\", index_col=False)\n",
    "df = df.rename(columns={\"target\": \"is_disaster\"})\n",
    "\n",
    "vectorizer = CountVectorizer(binary=True, min_df=5, ngram_range=(1,2))\n",
    "X = vectorizer.fit_transform(df.text.values)\n",
    "bag_of_words = pd.DataFrame(X.toarray(), columns=vectorizer.get_feature_names())\n",
    "df = pd.concat([df.drop(columns=\"Unnamed: 0\"), bag_of_words], axis=1, join=\"inner\")\n",
    "\n",
    "X_train, X_dev, y_train, y_dev = train_test_split(df.drop(columns=[\"is_disaster\", \"keyword\", \"text\"]), df.is_disaster, train_size=0.7, random_state=37)"
   ]
  },
  {
   "cell_type": "code",
   "execution_count": 370,
   "metadata": {},
   "outputs": [
    {
     "output_type": "stream",
     "name": "stdout",
     "text": [
      "              precision    recall  f1-score   support\n\n           0       0.79      0.86      0.82      1317\n           1       0.78      0.68      0.73       967\n\n    accuracy                           0.78      2284\n   macro avg       0.78      0.77      0.77      2284\nweighted avg       0.78      0.78      0.78      2284\n\n"
     ]
    }
   ],
   "source": [
    "from sklearn.linear_model import LogisticRegression\n",
    "clf = LogisticRegression(random_state=37).fit(X_train, y_train)\n",
    "print(classification_report(y_dev, clf.predict(X_dev)))"
   ]
  },
  {
   "cell_type": "code",
   "execution_count": 371,
   "metadata": {},
   "outputs": [
    {
     "output_type": "stream",
     "name": "stdout",
     "text": [
      "              precision    recall  f1-score   support\n\n           0       0.78      0.79      0.78      1317\n           1       0.71      0.69      0.70       967\n\n    accuracy                           0.75      2284\n   macro avg       0.74      0.74      0.74      2284\nweighted avg       0.75      0.75      0.75      2284\n\n"
     ]
    }
   ],
   "source": [
    "from sklearn.svm import LinearSVC\n",
    "lsvm = LinearSVC(random_state=37).fit(X_train, y_train)\n",
    "print(classification_report(y_dev, lsvm.predict(X_dev)))"
   ]
  },
  {
   "cell_type": "code",
   "execution_count": 373,
   "metadata": {},
   "outputs": [
    {
     "output_type": "stream",
     "name": "stdout",
     "text": [
      "              precision    recall  f1-score   support\n\n           0       0.78      0.91      0.84      1317\n           1       0.84      0.64      0.73       967\n\n    accuracy                           0.80      2284\n   macro avg       0.81      0.78      0.78      2284\nweighted avg       0.81      0.80      0.79      2284\n\n"
     ]
    }
   ],
   "source": [
    "from sklearn.svm import SVC\n",
    "svm = SVC(random_state=37, C=1).fit(X_train, y_train)\n",
    "print(classification_report(y_dev, svm.predict(X_dev)))"
   ]
  },
  {
   "cell_type": "code",
   "execution_count": 372,
   "metadata": {},
   "outputs": [
    {
     "output_type": "stream",
     "name": "stdout",
     "text": [
      "              precision    recall  f1-score   support\n\n           0       0.77      0.88      0.82      1317\n           1       0.80      0.64      0.71       967\n\n    accuracy                           0.78      2284\n   macro avg       0.78      0.76      0.77      2284\nweighted avg       0.78      0.78      0.77      2284\n\n"
     ]
    }
   ],
   "source": [
    "nb = NaiveBayes().fit(X_train, y_train)\n",
    "print(classification_report(y_dev, nb.predict(X_dev)))"
   ]
  },
  {
   "cell_type": "code",
   "execution_count": 374,
   "metadata": {},
   "outputs": [],
   "source": [
    "df = pd.read_csv(\"filtered_train.csv\", index_col=False)\n",
    "df = df.rename(columns={\"target\": \"is_disaster\"})\n",
    "\n",
    "vectorizer = CountVectorizer(binary=True, min_df=5, ngram_range=(1,2))\n",
    "X = vectorizer.fit_transform(df.text.values)\n",
    "bag_of_words = pd.DataFrame(X.toarray(), columns=vectorizer.get_feature_names())\n",
    "df = pd.concat([df.drop(columns=\"Unnamed: 0\"), bag_of_words], axis=1, join=\"inner\")"
   ]
  },
  {
   "cell_type": "code",
   "execution_count": 386,
   "metadata": {},
   "outputs": [
    {
     "output_type": "execute_result",
     "data": {
      "text/plain": [
       "      is_disaster  aba  aba woman  abandoned  abandoned aircraft  ablaze  \\\n",
       "0               1    0          0          0                   0       0   \n",
       "1               1    0          0          0                   0       0   \n",
       "2               1    0          0          0                   0       0   \n",
       "3               1    0          0          0                   0       0   \n",
       "4               1    0          0          0                   0       0   \n",
       "...           ...  ...        ...        ...                 ...     ...   \n",
       "7608            1    0          0          0                   0       0   \n",
       "7609            1    0          0          0                   0       0   \n",
       "7610            1    0          0          0                   0       0   \n",
       "7611            1    0          0          0                   0       0   \n",
       "7612            1    0          0          0                   0       0   \n",
       "\n",
       "      able  absolutely  abuse  access  ...  keyword_whirlwind  \\\n",
       "0        0           0      0       0  ...                  0   \n",
       "1        0           0      0       0  ...                  0   \n",
       "2        0           0      0       0  ...                  0   \n",
       "3        0           0      0       0  ...                  0   \n",
       "4        0           0      0       0  ...                  0   \n",
       "...    ...         ...    ...     ...  ...                ...   \n",
       "7608     0           0      0       0  ...                  0   \n",
       "7609     0           0      0       0  ...                  0   \n",
       "7610     0           0      0       0  ...                  0   \n",
       "7611     0           0      0       0  ...                  0   \n",
       "7612     0           0      0       0  ...                  0   \n",
       "\n",
       "      keyword_wild%20fires  keyword_wildfire  keyword_windstorm  \\\n",
       "0                        0                 0                  0   \n",
       "1                        0                 0                  0   \n",
       "2                        0                 0                  0   \n",
       "3                        0                 0                  0   \n",
       "4                        0                 0                  0   \n",
       "...                    ...               ...                ...   \n",
       "7608                     0                 0                  0   \n",
       "7609                     0                 0                  0   \n",
       "7610                     0                 0                  0   \n",
       "7611                     0                 0                  0   \n",
       "7612                     0                 0                  0   \n",
       "\n",
       "      keyword_wounded  keyword_wounds  keyword_wreck  keyword_wreckage  \\\n",
       "0                   0               0              0                 0   \n",
       "1                   0               0              0                 0   \n",
       "2                   0               0              0                 0   \n",
       "3                   0               0              0                 0   \n",
       "4                   0               0              0                 0   \n",
       "...               ...             ...            ...               ...   \n",
       "7608                0               0              0                 0   \n",
       "7609                0               0              0                 0   \n",
       "7610                0               0              0                 0   \n",
       "7611                0               0              0                 0   \n",
       "7612                0               0              0                 0   \n",
       "\n",
       "      keyword_wrecked  keyword_nan  \n",
       "0                   0            1  \n",
       "1                   0            1  \n",
       "2                   0            1  \n",
       "3                   0            1  \n",
       "4                   0            1  \n",
       "...               ...          ...  \n",
       "7608                0            1  \n",
       "7609                0            1  \n",
       "7610                0            1  \n",
       "7611                0            1  \n",
       "7612                0            1  \n",
       "\n",
       "[7613 rows x 2740 columns]"
      ],
      "text/html": "<div>\n<style scoped>\n    .dataframe tbody tr th:only-of-type {\n        vertical-align: middle;\n    }\n\n    .dataframe tbody tr th {\n        vertical-align: top;\n    }\n\n    .dataframe thead th {\n        text-align: right;\n    }\n</style>\n<table border=\"1\" class=\"dataframe\">\n  <thead>\n    <tr style=\"text-align: right;\">\n      <th></th>\n      <th>is_disaster</th>\n      <th>aba</th>\n      <th>aba woman</th>\n      <th>abandoned</th>\n      <th>abandoned aircraft</th>\n      <th>ablaze</th>\n      <th>able</th>\n      <th>absolutely</th>\n      <th>abuse</th>\n      <th>access</th>\n      <th>...</th>\n      <th>keyword_whirlwind</th>\n      <th>keyword_wild%20fires</th>\n      <th>keyword_wildfire</th>\n      <th>keyword_windstorm</th>\n      <th>keyword_wounded</th>\n      <th>keyword_wounds</th>\n      <th>keyword_wreck</th>\n      <th>keyword_wreckage</th>\n      <th>keyword_wrecked</th>\n      <th>keyword_nan</th>\n    </tr>\n  </thead>\n  <tbody>\n    <tr>\n      <th>0</th>\n      <td>1</td>\n      <td>0</td>\n      <td>0</td>\n      <td>0</td>\n      <td>0</td>\n      <td>0</td>\n      <td>0</td>\n      <td>0</td>\n      <td>0</td>\n      <td>0</td>\n      <td>...</td>\n      <td>0</td>\n      <td>0</td>\n      <td>0</td>\n      <td>0</td>\n      <td>0</td>\n      <td>0</td>\n      <td>0</td>\n      <td>0</td>\n      <td>0</td>\n      <td>1</td>\n    </tr>\n    <tr>\n      <th>1</th>\n      <td>1</td>\n      <td>0</td>\n      <td>0</td>\n      <td>0</td>\n      <td>0</td>\n      <td>0</td>\n      <td>0</td>\n      <td>0</td>\n      <td>0</td>\n      <td>0</td>\n      <td>...</td>\n      <td>0</td>\n      <td>0</td>\n      <td>0</td>\n      <td>0</td>\n      <td>0</td>\n      <td>0</td>\n      <td>0</td>\n      <td>0</td>\n      <td>0</td>\n      <td>1</td>\n    </tr>\n    <tr>\n      <th>2</th>\n      <td>1</td>\n      <td>0</td>\n      <td>0</td>\n      <td>0</td>\n      <td>0</td>\n      <td>0</td>\n      <td>0</td>\n      <td>0</td>\n      <td>0</td>\n      <td>0</td>\n      <td>...</td>\n      <td>0</td>\n      <td>0</td>\n      <td>0</td>\n      <td>0</td>\n      <td>0</td>\n      <td>0</td>\n      <td>0</td>\n      <td>0</td>\n      <td>0</td>\n      <td>1</td>\n    </tr>\n    <tr>\n      <th>3</th>\n      <td>1</td>\n      <td>0</td>\n      <td>0</td>\n      <td>0</td>\n      <td>0</td>\n      <td>0</td>\n      <td>0</td>\n      <td>0</td>\n      <td>0</td>\n      <td>0</td>\n      <td>...</td>\n      <td>0</td>\n      <td>0</td>\n      <td>0</td>\n      <td>0</td>\n      <td>0</td>\n      <td>0</td>\n      <td>0</td>\n      <td>0</td>\n      <td>0</td>\n      <td>1</td>\n    </tr>\n    <tr>\n      <th>4</th>\n      <td>1</td>\n      <td>0</td>\n      <td>0</td>\n      <td>0</td>\n      <td>0</td>\n      <td>0</td>\n      <td>0</td>\n      <td>0</td>\n      <td>0</td>\n      <td>0</td>\n      <td>...</td>\n      <td>0</td>\n      <td>0</td>\n      <td>0</td>\n      <td>0</td>\n      <td>0</td>\n      <td>0</td>\n      <td>0</td>\n      <td>0</td>\n      <td>0</td>\n      <td>1</td>\n    </tr>\n    <tr>\n      <th>...</th>\n      <td>...</td>\n      <td>...</td>\n      <td>...</td>\n      <td>...</td>\n      <td>...</td>\n      <td>...</td>\n      <td>...</td>\n      <td>...</td>\n      <td>...</td>\n      <td>...</td>\n      <td>...</td>\n      <td>...</td>\n      <td>...</td>\n      <td>...</td>\n      <td>...</td>\n      <td>...</td>\n      <td>...</td>\n      <td>...</td>\n      <td>...</td>\n      <td>...</td>\n      <td>...</td>\n    </tr>\n    <tr>\n      <th>7608</th>\n      <td>1</td>\n      <td>0</td>\n      <td>0</td>\n      <td>0</td>\n      <td>0</td>\n      <td>0</td>\n      <td>0</td>\n      <td>0</td>\n      <td>0</td>\n      <td>0</td>\n      <td>...</td>\n      <td>0</td>\n      <td>0</td>\n      <td>0</td>\n      <td>0</td>\n      <td>0</td>\n      <td>0</td>\n      <td>0</td>\n      <td>0</td>\n      <td>0</td>\n      <td>1</td>\n    </tr>\n    <tr>\n      <th>7609</th>\n      <td>1</td>\n      <td>0</td>\n      <td>0</td>\n      <td>0</td>\n      <td>0</td>\n      <td>0</td>\n      <td>0</td>\n      <td>0</td>\n      <td>0</td>\n      <td>0</td>\n      <td>...</td>\n      <td>0</td>\n      <td>0</td>\n      <td>0</td>\n      <td>0</td>\n      <td>0</td>\n      <td>0</td>\n      <td>0</td>\n      <td>0</td>\n      <td>0</td>\n      <td>1</td>\n    </tr>\n    <tr>\n      <th>7610</th>\n      <td>1</td>\n      <td>0</td>\n      <td>0</td>\n      <td>0</td>\n      <td>0</td>\n      <td>0</td>\n      <td>0</td>\n      <td>0</td>\n      <td>0</td>\n      <td>0</td>\n      <td>...</td>\n      <td>0</td>\n      <td>0</td>\n      <td>0</td>\n      <td>0</td>\n      <td>0</td>\n      <td>0</td>\n      <td>0</td>\n      <td>0</td>\n      <td>0</td>\n      <td>1</td>\n    </tr>\n    <tr>\n      <th>7611</th>\n      <td>1</td>\n      <td>0</td>\n      <td>0</td>\n      <td>0</td>\n      <td>0</td>\n      <td>0</td>\n      <td>0</td>\n      <td>0</td>\n      <td>0</td>\n      <td>0</td>\n      <td>...</td>\n      <td>0</td>\n      <td>0</td>\n      <td>0</td>\n      <td>0</td>\n      <td>0</td>\n      <td>0</td>\n      <td>0</td>\n      <td>0</td>\n      <td>0</td>\n      <td>1</td>\n    </tr>\n    <tr>\n      <th>7612</th>\n      <td>1</td>\n      <td>0</td>\n      <td>0</td>\n      <td>0</td>\n      <td>0</td>\n      <td>0</td>\n      <td>0</td>\n      <td>0</td>\n      <td>0</td>\n      <td>0</td>\n      <td>...</td>\n      <td>0</td>\n      <td>0</td>\n      <td>0</td>\n      <td>0</td>\n      <td>0</td>\n      <td>0</td>\n      <td>0</td>\n      <td>0</td>\n      <td>0</td>\n      <td>1</td>\n    </tr>\n  </tbody>\n</table>\n<p>7613 rows × 2740 columns</p>\n</div>"
     },
     "metadata": {},
     "execution_count": 386
    }
   ],
   "source": [
    "pd.concat([df.drop(columns=[\"keyword\", \"text\"]), pd.get_dummies(df.keyword, dummy_na=True, prefix=\"keyword\")], axis=1)"
   ]
  },
  {
   "cell_type": "code",
   "execution_count": 388,
   "metadata": {},
   "outputs": [
    {
     "output_type": "stream",
     "name": "stdout",
     "text": [
      "              precision    recall  f1-score   support\n\n           0       0.79      0.86      0.82      1317\n           1       0.78      0.68      0.73       967\n\n    accuracy                           0.78      2284\n   macro avg       0.78      0.77      0.77      2284\nweighted avg       0.78      0.78      0.78      2284\n\n"
     ]
    }
   ],
   "source": [
    "from sklearn.linear_model import LogisticRegression\n",
    "clf = LogisticRegression(random_state=37).fit(X_train, y_train)\n",
    "print(classification_report(y_dev, clf.predict(X_dev)))"
   ]
  },
  {
   "cell_type": "code",
   "execution_count": 389,
   "metadata": {},
   "outputs": [
    {
     "output_type": "stream",
     "name": "stdout",
     "text": [
      "              precision    recall  f1-score   support\n\n           0       0.78      0.79      0.78      1317\n           1       0.71      0.69      0.70       967\n\n    accuracy                           0.75      2284\n   macro avg       0.74      0.74      0.74      2284\nweighted avg       0.75      0.75      0.75      2284\n\n"
     ]
    }
   ],
   "source": [
    "from sklearn.svm import LinearSVC\n",
    "lsvm = LinearSVC(random_state=37).fit(X_train, y_train)\n",
    "print(classification_report(y_dev, lsvm.predict(X_dev)))"
   ]
  },
  {
   "cell_type": "code",
   "execution_count": 391,
   "metadata": {},
   "outputs": [
    {
     "output_type": "stream",
     "name": "stdout",
     "text": [
      "              precision    recall  f1-score   support\n\n           0       0.78      0.91      0.84      1317\n           1       0.84      0.64      0.73       967\n\n    accuracy                           0.80      2284\n   macro avg       0.81      0.78      0.78      2284\nweighted avg       0.81      0.80      0.79      2284\n\n"
     ]
    }
   ],
   "source": [
    "from sklearn.svm import SVC\n",
    "svm = SVC(random_state=37, C=1).fit(X_train, y_train)\n",
    "print(classification_report(y_dev, svm.predict(X_dev)))"
   ]
  },
  {
   "cell_type": "code",
   "execution_count": 390,
   "metadata": {},
   "outputs": [
    {
     "output_type": "stream",
     "name": "stdout",
     "text": [
      "              precision    recall  f1-score   support\n\n           0       0.77      0.88      0.82      1317\n           1       0.80      0.64      0.71       967\n\n    accuracy                           0.78      2284\n   macro avg       0.78      0.76      0.77      2284\nweighted avg       0.78      0.78      0.77      2284\n\n"
     ]
    }
   ],
   "source": [
    "nb = NaiveBayes().fit(X_train, y_train)\n",
    "print(classification_report(y_dev, nb.predict(X_dev))) "
   ]
  },
  {
   "cell_type": "code",
   "execution_count": null,
   "metadata": {},
   "outputs": [],
   "source": [
    "import optuna\n",
    "seed = 37\n",
    "def objective(trial):\n",
    "    model = trial.suggest()q\n",
    "    C = trial.suggest()\n",
    "    kernel = trial.suggest()\n",
    "    degree = trial.suggest()\n",
    "    gamma = trial.suggest()\n",
    "    if kernel == \"poly\" or kernel == \"sigmoid\":\n",
    "        coef0 = trial.suggest()"
   ]
  },
  {
   "cell_type": "code",
   "execution_count": 28,
   "metadata": {},
   "outputs": [],
   "source": [
    "df_train = pd.read_csv(\"filtered_train.csv\", index_col=False)\n",
    "df_test = pd.read_csv(\"filtered_test.csv\", index_col=False)\n",
    "df_train = df_train.rename(columns={\"target\": \"is_disaster\"})\n",
    "df_test = df_test.rename(columns={\"target\": \"is_disaster\"})"
   ]
  },
  {
   "cell_type": "code",
   "execution_count": 35,
   "metadata": {},
   "outputs": [],
   "source": [
    "all_data = pd.concat([df_train, df_test])\n",
    "vectorizer = CountVectorizer(binary=True, min_df=5, ngram_range=(1,2))\n",
    "X = vectorizer.fit_transform(all_data.text.values)\n",
    "bag_of_words = pd.DataFrame(X.toarray(), columns=vectorizer.get_feature_names())\n",
    "all_data = pd.concat([all_data.drop(columns=\"Unnamed: 0\"), bag_of_words], axis=1, join=\"inner\")\n",
    "all_data  = pd.concat([all_data.drop(columns=[\"keyword\", \"text\"]), pd.get_dummies(all_data.keyword, dummy_na=True, prefix=\"keyword\")], axis=1)"
   ]
  },
  {
   "cell_type": "code",
   "execution_count": 41,
   "metadata": {},
   "outputs": [],
   "source": [
    "train = all_data[all_data.is_disaster.notnull()]\n",
    "X_test = all_data[all_data.is_disaster.isnull()].drop(columns=\"is_disaster\")"
   ]
  },
  {
   "cell_type": "code",
   "execution_count": 51,
   "metadata": {},
   "outputs": [],
   "source": [
    "from sklearn.svm import SVC\n",
    "svm = SVC(random_state=37, C=1).fit(train.drop(columns=\"is_disaster\"), train.is_disaster)"
   ]
  },
  {
   "cell_type": "code",
   "execution_count": 53,
   "metadata": {},
   "outputs": [],
   "source": [
    "predictions = pd.Series(svm.predict(X_test))"
   ]
  },
  {
   "cell_type": "code",
   "execution_count": 57,
   "metadata": {},
   "outputs": [],
   "source": [
    "output = pd.DataFrame(data={\"id\": range(predictions.size), \"target\": predictions})"
   ]
  },
  {
   "cell_type": "code",
   "execution_count": 62,
   "metadata": {},
   "outputs": [],
   "source": [
    "output.target = output.target.apply(int)"
   ]
  },
  {
   "cell_type": "code",
   "execution_count": 63,
   "metadata": {},
   "outputs": [],
   "source": [
    "output.to_csv(\"submission.csv\", index=False)"
   ]
  },
  {
   "cell_type": "code",
   "execution_count": null,
   "metadata": {},
   "outputs": [],
   "source": []
  }
 ]
}