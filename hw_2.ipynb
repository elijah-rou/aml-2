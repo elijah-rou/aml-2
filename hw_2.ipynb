{
 "metadata": {
  "language_info": {
   "codemirror_mode": {
    "name": "ipython",
    "version": 3
   },
   "file_extension": ".py",
   "mimetype": "text/x-python",
   "name": "python",
   "nbconvert_exporter": "python",
   "pygments_lexer": "ipython3",
   "version": "3.8.3-final"
  },
  "orig_nbformat": 2,
  "kernelspec": {
   "name": "Python 3.8.3 64-bit ('base': conda)",
   "display_name": "Python 3.8.3 64-bit ('base': conda)",
   "metadata": {
    "interpreter": {
     "hash": "e134e05457d34029b6460cd73bbf1ed73f339b5b6d98c95be70b69eba114fe95"
    }
   }
  }
 },
 "nbformat": 4,
 "nbformat_minor": 2,
 "cells": [
  {
   "source": [
    "# Programming Exercises"
   ],
   "cell_type": "markdown",
   "metadata": {}
  },
  {
   "cell_type": "code",
   "execution_count": 1,
   "metadata": {},
   "outputs": [],
   "source": [
    "import pandas as pd\n",
    "import numpy as np\n",
    "from sklearn.model_selection import train_test_split"
   ]
  },
  {
   "cell_type": "code",
   "execution_count": 7,
   "metadata": {},
   "outputs": [],
   "source": [
    "df_train = pd.read_csv(\"train.csv\")\n",
    "df_test = pd.read_csv(\"test.csv\")"
   ]
  },
  {
   "cell_type": "code",
   "execution_count": 3,
   "metadata": {},
   "outputs": [
    {
     "output_type": "stream",
     "name": "stdout",
     "text": [
      "Training set size: 7613 (Distaters: 3271, Other: 4342)\nTesting set size: 3263\n"
     ]
    }
   ],
   "source": [
    "df_size = len(df)\n",
    "disasters_size = len(df_train[df_train.target == 1])\n",
    "print(f\"Training set size: {df_size} (Distaters: {disasters_size}, Other: {df_size-disasters_size})\")\n",
    "\n",
    "df_test_size = len(df_test)\n",
    "print(f\"Testing set size: {df_test_size}\")"
   ]
  },
  {
   "cell_type": "code",
   "execution_count": 4,
   "metadata": {},
   "outputs": [
    {
     "output_type": "execute_result",
     "data": {
      "text/plain": [
       "'italy'"
      ]
     },
     "metadata": {},
     "execution_count": 4
    }
   ],
   "source": [
    "df.location[df.location.notna()].iloc[108]"
   ]
  },
  {
   "source": [
    "## 1\n",
    "### a\n",
    "7613 Training Points (3271 Disasters), 3263 Testing Points"
   ],
   "cell_type": "markdown",
   "metadata": {}
  },
  {
   "cell_type": "code",
   "execution_count": 6,
   "metadata": {},
   "outputs": [],
   "source": [
    "# ID is uselesss and Location may bee to noisy\n",
    "df_train = d_train.drop(columns=[\"id\", \"location\"])"
   ]
  },
  {
   "cell_type": "code",
   "execution_count": 9,
   "metadata": {},
   "outputs": [],
   "source": [
    "from nltk.tokenize import word_tokenize\n",
    "from nltk.corpus import stopwords\n",
    "from nltk.corpus import words as englishwords\n",
    "from nltk.stem import WordNetLemmatizer\n",
    "def tokenize(string, lower=True, punctuation=True, stops=True, lemmatize=True, check_english=True):\n",
    "    stop_words = set(stopwords.words(\"english\"))\n",
    "    english_words = set(englishwords.words())\n",
    "    words = word_tokenize(string)\n",
    "    lzr = WordNetLemmatizer() \n",
    "\n",
    "    if lower:\n",
    "        words = [w.lower() for w in words]\n",
    "    if punctuation:\n",
    "        words = [w for w in words if w.isalnum()]\n",
    "    if stops:\n",
    "        words = [w for w in words if w not in stop_words]\n",
    "    if lemmatize:\n",
    "        words = [lzr.lemmatize(w) for w in words]\n",
    "    # Takes long to run, use with caution\n",
    "    if check_english:\n",
    "        words = [w for w in words if w in english_words]\n",
    "    return words"
   ]
  },
  {
   "cell_type": "code",
   "execution_count": 10,
   "metadata": {},
   "outputs": [],
   "source": [
    "from nltk.stem import WordNetLemmatizer\n",
    "lzr = WordNetLemmatizer()\n",
    "df_train.text = df.text.apply(lambda x: tokenize(x))\n",
    "df_train.keywords = df.keyword.apply(lambda x: x.lower() if isinstance(x, str) else x)"
   ]
  },
  {
   "cell_type": "code",
   "execution_count": 1,
   "metadata": {},
   "outputs": [
    {
     "output_type": "error",
     "ename": "NameError",
     "evalue": "name 'df' is not defined",
     "traceback": [
      "\u001b[0;31m---------------------------------------------------------------------------\u001b[0m",
      "\u001b[0;31mNameError\u001b[0m                                 Traceback (most recent call last)",
      "\u001b[0;32m<ipython-input-1-7ffbf2900a7c>\u001b[0m in \u001b[0;36m<module>\u001b[0;34m\u001b[0m\n\u001b[0;32m----> 1\u001b[0;31m \u001b[0mdf\u001b[0m\u001b[0;34m.\u001b[0m\u001b[0mto_csv\u001b[0m\u001b[0;34m(\u001b[0m\u001b[0;34m\"new_train.csv\"\u001b[0m\u001b[0;34m)\u001b[0m\u001b[0;34m\u001b[0m\u001b[0;34m\u001b[0m\u001b[0m\n\u001b[0m",
      "\u001b[0;31mNameError\u001b[0m: name 'df' is not defined"
     ]
    }
   ],
   "source": [
    "df_train.to_csv(\"new_train.csv\")"
   ]
  },
  {
   "cell_type": "code",
   "execution_count": 94,
   "metadata": {},
   "outputs": [],
   "source": [
    "import pandas as pd\n",
    "import numpy as np\n",
    "from sklearn.model_selection import train_test_split\n",
    "df = pd.read_csv(\"filtered_train.csv\", index_col=False)\n",
    "df = df.rename(columns={\"target\": \"is_disaster\"})"
   ]
  },
  {
   "cell_type": "code",
   "execution_count": 95,
   "metadata": {},
   "outputs": [],
   "source": [
    "from sklearn.feature_extraction.text import CountVectorizer\n",
    "vectorizer = CountVectorizer(binary=True, min_df=20)\n",
    "sample = df.text.iloc[0]\n",
    "X = vectorizer.fit_transform(df.text.values)\n",
    "bag_of_words = pd.DataFrame(X.toarray(), columns=vectorizer.get_feature_names())\n",
    "df = pd.concat([df.drop(columns=\"Unnamed: 0\"), bag_of_words], axis=1, join=\"inner\")"
   ]
  },
  {
   "cell_type": "code",
   "execution_count": 96,
   "metadata": {},
   "outputs": [],
   "source": [
    "X_train, X_dev, y_train, y_dev = train_test_split(df.drop(columns=[\"is_disaster\", \"keyword\", \"text\"]), df.is_disaster, train_size=0.7, random_state=37)"
   ]
  },
  {
   "cell_type": "code",
   "execution_count": 97,
   "metadata": {},
   "outputs": [],
   "source": [
    "from sklearn.metrics import classification_report"
   ]
  },
  {
   "source": [
    "### Logistic Regression"
   ],
   "cell_type": "markdown",
   "metadata": {}
  },
  {
   "cell_type": "code",
   "execution_count": 98,
   "metadata": {},
   "outputs": [
    {
     "output_type": "stream",
     "name": "stdout",
     "text": [
      "              precision    recall  f1-score   support\n\n           0       0.78      0.86      0.82      1317\n           1       0.77      0.67      0.72       967\n\n    accuracy                           0.78      2284\n   macro avg       0.78      0.76      0.77      2284\nweighted avg       0.78      0.78      0.78      2284\n\n"
     ]
    }
   ],
   "source": [
    "from sklearn.linear_model import LogisticRegression\n",
    "clf = LogisticRegression(random_state=37).fit(X_train, y_train)\n",
    "print(classification_report(y_dev, clf.predict(X_dev)))"
   ]
  },
  {
   "source": [
    "### Linear SVM"
   ],
   "cell_type": "markdown",
   "metadata": {}
  },
  {
   "cell_type": "code",
   "execution_count": 121,
   "metadata": {},
   "outputs": [
    {
     "output_type": "stream",
     "name": "stdout",
     "text": [
      "              precision    recall  f1-score   support\n\n           0       0.78      0.84      0.81      1317\n           1       0.76      0.68      0.72       967\n\n    accuracy                           0.78      2284\n   macro avg       0.77      0.76      0.77      2284\nweighted avg       0.77      0.78      0.77      2284\n\n"
     ]
    }
   ],
   "source": [
    "from sklearn.svm import LinearSVC\n",
    "lsvm = LinearSVC(random_state=37).fit(X_train, y_train)\n",
    "print(classification_report(y_dev, lsvm.predict(X_dev)))"
   ]
  },
  {
   "source": [
    "### Non-Linear SVM"
   ],
   "cell_type": "markdown",
   "metadata": {}
  },
  {
   "cell_type": "code",
   "execution_count": 122,
   "metadata": {},
   "outputs": [
    {
     "output_type": "stream",
     "name": "stdout",
     "text": [
      "              precision    recall  f1-score   support\n\n           0       0.77      0.89      0.83      1317\n           1       0.81      0.64      0.71       967\n\n    accuracy                           0.78      2284\n   macro avg       0.79      0.76      0.77      2284\nweighted avg       0.79      0.78      0.78      2284\n\n"
     ]
    }
   ],
   "source": [
    "from sklearn.svm import SVC\n",
    "svm = SVC(random_state=37, C=1).fit(X_train, y_train)\n",
    "print(classification_report(y_dev, svm.predict(X_dev)))"
   ]
  },
  {
   "source": [
    "### Naive Bayes"
   ],
   "cell_type": "markdown",
   "metadata": {}
  },
  {
   "cell_type": "code",
   "execution_count": 101,
   "metadata": {},
   "outputs": [],
   "source": [
    "import numpy as np\n",
    "\n",
    "def calculate_probability(x, mean, std):\n",
    "    exponent = np.exp(-(np.square(x-mean) / (2 * np.square(std))))\n",
    "    return (1 / np.sqrt(2 * np.pi) * std) * exponent\n",
    "\n",
    "def naive_bayes(X, y):\n",
    "    miu = X.groupby(y).mean()\n",
    "    sigma = X.groupby(y).std()\n",
    "    probabilities = X.groupby(y).apply(lambda x: len(x)) / X.shape[0]\n",
    "\n",
    "    predictions = np.zeros(X.shape[0])\n",
    "    for i, x in enumerate(X):\n",
    "        conditional_probs = {}\n",
    "        for classification in np.unique(y):\n",
    "            conditional_probs[classification] = probabilities.iloc[classification]\n",
    "            for j, feature in enumerate(x):\n",
    "                conditional_probs[classification] *=  calculate_probability(feature, miu[classification, j], sigma[classification, j])\n",
    "        predictions[i] = pd.Series(conditional_probs).values.argmax()\n",
    "    return predictions"
   ]
  },
  {
   "cell_type": "code",
   "execution_count": 105,
   "metadata": {},
   "outputs": [
    {
     "output_type": "execute_result",
     "data": {
      "text/plain": [
       "               ablaze  accident    across    action  actually  affected  \\\n",
       "is_disaster                                                               \n",
       "0            0.003636  0.005289  0.001653  0.001653  0.002645  0.000331   \n",
       "1            0.002170  0.021267  0.003472  0.005208  0.003472  0.009115   \n",
       "\n",
       "                  ago       air  aircraft  airplane  ...   wounded     wreck  \\\n",
       "is_disaster                                          ...                       \n",
       "0            0.002645  0.001653  0.000000  0.001322  ...  0.002314  0.006612   \n",
       "1            0.005208  0.009983  0.007812  0.009983  ...  0.009115  0.004774   \n",
       "\n",
       "             wreckage     wrong      yeah      year       yes       yet  \\\n",
       "is_disaster                                                               \n",
       "0            0.000000  0.004298  0.003636  0.014876  0.004298  0.005950   \n",
       "1            0.010851  0.000434  0.001736  0.022135  0.001736  0.001736   \n",
       "\n",
       "                youth      zone  \n",
       "is_disaster                      \n",
       "0            0.000661  0.004959  \n",
       "1            0.005642  0.002604  \n",
       "\n",
       "[2 rows x 601 columns]"
      ],
      "text/html": "<div>\n<style scoped>\n    .dataframe tbody tr th:only-of-type {\n        vertical-align: middle;\n    }\n\n    .dataframe tbody tr th {\n        vertical-align: top;\n    }\n\n    .dataframe thead th {\n        text-align: right;\n    }\n</style>\n<table border=\"1\" class=\"dataframe\">\n  <thead>\n    <tr style=\"text-align: right;\">\n      <th></th>\n      <th>ablaze</th>\n      <th>accident</th>\n      <th>across</th>\n      <th>action</th>\n      <th>actually</th>\n      <th>affected</th>\n      <th>ago</th>\n      <th>air</th>\n      <th>aircraft</th>\n      <th>airplane</th>\n      <th>...</th>\n      <th>wounded</th>\n      <th>wreck</th>\n      <th>wreckage</th>\n      <th>wrong</th>\n      <th>yeah</th>\n      <th>year</th>\n      <th>yes</th>\n      <th>yet</th>\n      <th>youth</th>\n      <th>zone</th>\n    </tr>\n    <tr>\n      <th>is_disaster</th>\n      <th></th>\n      <th></th>\n      <th></th>\n      <th></th>\n      <th></th>\n      <th></th>\n      <th></th>\n      <th></th>\n      <th></th>\n      <th></th>\n      <th></th>\n      <th></th>\n      <th></th>\n      <th></th>\n      <th></th>\n      <th></th>\n      <th></th>\n      <th></th>\n      <th></th>\n      <th></th>\n      <th></th>\n    </tr>\n  </thead>\n  <tbody>\n    <tr>\n      <th>0</th>\n      <td>0.003636</td>\n      <td>0.005289</td>\n      <td>0.001653</td>\n      <td>0.001653</td>\n      <td>0.002645</td>\n      <td>0.000331</td>\n      <td>0.002645</td>\n      <td>0.001653</td>\n      <td>0.000000</td>\n      <td>0.001322</td>\n      <td>...</td>\n      <td>0.002314</td>\n      <td>0.006612</td>\n      <td>0.000000</td>\n      <td>0.004298</td>\n      <td>0.003636</td>\n      <td>0.014876</td>\n      <td>0.004298</td>\n      <td>0.005950</td>\n      <td>0.000661</td>\n      <td>0.004959</td>\n    </tr>\n    <tr>\n      <th>1</th>\n      <td>0.002170</td>\n      <td>0.021267</td>\n      <td>0.003472</td>\n      <td>0.005208</td>\n      <td>0.003472</td>\n      <td>0.009115</td>\n      <td>0.005208</td>\n      <td>0.009983</td>\n      <td>0.007812</td>\n      <td>0.009983</td>\n      <td>...</td>\n      <td>0.009115</td>\n      <td>0.004774</td>\n      <td>0.010851</td>\n      <td>0.000434</td>\n      <td>0.001736</td>\n      <td>0.022135</td>\n      <td>0.001736</td>\n      <td>0.001736</td>\n      <td>0.005642</td>\n      <td>0.002604</td>\n    </tr>\n  </tbody>\n</table>\n<p>2 rows × 601 columns</p>\n</div>"
     },
     "metadata": {},
     "execution_count": 105
    }
   ],
   "source": [
    "X_train.groupby(y_train).mean()"
   ]
  },
  {
   "cell_type": "code",
   "execution_count": 102,
   "metadata": {},
   "outputs": [
    {
     "output_type": "error",
     "ename": "KeyError",
     "evalue": "(0, 0)",
     "traceback": [
      "\u001b[0;31m---------------------------------------------------------------------------\u001b[0m",
      "\u001b[0;31mKeyError\u001b[0m                                  Traceback (most recent call last)",
      "\u001b[0;32m/usr/local/anaconda3/lib/python3.8/site-packages/pandas/core/indexes/base.py\u001b[0m in \u001b[0;36mget_loc\u001b[0;34m(self, key, method, tolerance)\u001b[0m\n\u001b[1;32m   2888\u001b[0m             \u001b[0;32mtry\u001b[0m\u001b[0;34m:\u001b[0m\u001b[0;34m\u001b[0m\u001b[0;34m\u001b[0m\u001b[0m\n\u001b[0;32m-> 2889\u001b[0;31m                 \u001b[0;32mreturn\u001b[0m \u001b[0mself\u001b[0m\u001b[0;34m.\u001b[0m\u001b[0m_engine\u001b[0m\u001b[0;34m.\u001b[0m\u001b[0mget_loc\u001b[0m\u001b[0;34m(\u001b[0m\u001b[0mcasted_key\u001b[0m\u001b[0;34m)\u001b[0m\u001b[0;34m\u001b[0m\u001b[0;34m\u001b[0m\u001b[0m\n\u001b[0m\u001b[1;32m   2890\u001b[0m             \u001b[0;32mexcept\u001b[0m \u001b[0mKeyError\u001b[0m \u001b[0;32mas\u001b[0m \u001b[0merr\u001b[0m\u001b[0;34m:\u001b[0m\u001b[0;34m\u001b[0m\u001b[0;34m\u001b[0m\u001b[0m\n",
      "\u001b[0;32mpandas/_libs/index.pyx\u001b[0m in \u001b[0;36mpandas._libs.index.IndexEngine.get_loc\u001b[0;34m()\u001b[0m\n",
      "\u001b[0;32mpandas/_libs/index.pyx\u001b[0m in \u001b[0;36mpandas._libs.index.IndexEngine.get_loc\u001b[0;34m()\u001b[0m\n",
      "\u001b[0;32mpandas/_libs/hashtable_class_helper.pxi\u001b[0m in \u001b[0;36mpandas._libs.hashtable.PyObjectHashTable.get_item\u001b[0;34m()\u001b[0m\n",
      "\u001b[0;32mpandas/_libs/hashtable_class_helper.pxi\u001b[0m in \u001b[0;36mpandas._libs.hashtable.PyObjectHashTable.get_item\u001b[0;34m()\u001b[0m\n",
      "\u001b[0;31mKeyError\u001b[0m: (0, 0)",
      "\nThe above exception was the direct cause of the following exception:\n",
      "\u001b[0;31mKeyError\u001b[0m                                  Traceback (most recent call last)",
      "\u001b[0;32m<ipython-input-102-15f9255ce665>\u001b[0m in \u001b[0;36m<module>\u001b[0;34m\u001b[0m\n\u001b[0;32m----> 1\u001b[0;31m \u001b[0mnb\u001b[0m \u001b[0;34m=\u001b[0m \u001b[0mnaive_bayes\u001b[0m\u001b[0;34m(\u001b[0m\u001b[0mX_train\u001b[0m\u001b[0;34m,\u001b[0m \u001b[0my_train\u001b[0m\u001b[0;34m)\u001b[0m\u001b[0;34m\u001b[0m\u001b[0;34m\u001b[0m\u001b[0m\n\u001b[0m",
      "\u001b[0;32m<ipython-input-101-ffbed4750c0b>\u001b[0m in \u001b[0;36mnaive_bayes\u001b[0;34m(X, y)\u001b[0m\n\u001b[1;32m     16\u001b[0m             \u001b[0mconditional_probs\u001b[0m\u001b[0;34m[\u001b[0m\u001b[0mclassification\u001b[0m\u001b[0;34m]\u001b[0m \u001b[0;34m=\u001b[0m \u001b[0mprobabilities\u001b[0m\u001b[0;34m.\u001b[0m\u001b[0miloc\u001b[0m\u001b[0;34m[\u001b[0m\u001b[0mclassification\u001b[0m\u001b[0;34m]\u001b[0m\u001b[0;34m\u001b[0m\u001b[0;34m\u001b[0m\u001b[0m\n\u001b[1;32m     17\u001b[0m             \u001b[0;32mfor\u001b[0m \u001b[0mj\u001b[0m\u001b[0;34m,\u001b[0m \u001b[0mfeature\u001b[0m \u001b[0;32min\u001b[0m \u001b[0menumerate\u001b[0m\u001b[0;34m(\u001b[0m\u001b[0mx\u001b[0m\u001b[0;34m)\u001b[0m\u001b[0;34m:\u001b[0m\u001b[0;34m\u001b[0m\u001b[0;34m\u001b[0m\u001b[0m\n\u001b[0;32m---> 18\u001b[0;31m                 \u001b[0mconditional_probs\u001b[0m\u001b[0;34m[\u001b[0m\u001b[0mclassification\u001b[0m\u001b[0;34m]\u001b[0m \u001b[0;34m*=\u001b[0m  \u001b[0mcalculate_probability\u001b[0m\u001b[0;34m(\u001b[0m\u001b[0mfeature\u001b[0m\u001b[0;34m,\u001b[0m \u001b[0mmiu\u001b[0m\u001b[0;34m[\u001b[0m\u001b[0mclassification\u001b[0m\u001b[0;34m,\u001b[0m \u001b[0mj\u001b[0m\u001b[0;34m]\u001b[0m\u001b[0;34m,\u001b[0m \u001b[0msigma\u001b[0m\u001b[0;34m[\u001b[0m\u001b[0mclassification\u001b[0m\u001b[0;34m,\u001b[0m \u001b[0mj\u001b[0m\u001b[0;34m]\u001b[0m\u001b[0;34m)\u001b[0m\u001b[0;34m\u001b[0m\u001b[0;34m\u001b[0m\u001b[0m\n\u001b[0m\u001b[1;32m     19\u001b[0m         \u001b[0mpredictions\u001b[0m\u001b[0;34m[\u001b[0m\u001b[0mi\u001b[0m\u001b[0;34m]\u001b[0m \u001b[0;34m=\u001b[0m \u001b[0mpd\u001b[0m\u001b[0;34m.\u001b[0m\u001b[0mSeries\u001b[0m\u001b[0;34m(\u001b[0m\u001b[0mconditional_probs\u001b[0m\u001b[0;34m)\u001b[0m\u001b[0;34m.\u001b[0m\u001b[0mvalues\u001b[0m\u001b[0;34m.\u001b[0m\u001b[0margmax\u001b[0m\u001b[0;34m(\u001b[0m\u001b[0;34m)\u001b[0m\u001b[0;34m\u001b[0m\u001b[0;34m\u001b[0m\u001b[0m\n\u001b[1;32m     20\u001b[0m     \u001b[0;32mreturn\u001b[0m \u001b[0mpredictions\u001b[0m\u001b[0;34m\u001b[0m\u001b[0;34m\u001b[0m\u001b[0m\n",
      "\u001b[0;32m/usr/local/anaconda3/lib/python3.8/site-packages/pandas/core/frame.py\u001b[0m in \u001b[0;36m__getitem__\u001b[0;34m(self, key)\u001b[0m\n\u001b[1;32m   2900\u001b[0m             \u001b[0;32mif\u001b[0m \u001b[0mself\u001b[0m\u001b[0;34m.\u001b[0m\u001b[0mcolumns\u001b[0m\u001b[0;34m.\u001b[0m\u001b[0mnlevels\u001b[0m \u001b[0;34m>\u001b[0m \u001b[0;36m1\u001b[0m\u001b[0;34m:\u001b[0m\u001b[0;34m\u001b[0m\u001b[0;34m\u001b[0m\u001b[0m\n\u001b[1;32m   2901\u001b[0m                 \u001b[0;32mreturn\u001b[0m \u001b[0mself\u001b[0m\u001b[0;34m.\u001b[0m\u001b[0m_getitem_multilevel\u001b[0m\u001b[0;34m(\u001b[0m\u001b[0mkey\u001b[0m\u001b[0;34m)\u001b[0m\u001b[0;34m\u001b[0m\u001b[0;34m\u001b[0m\u001b[0m\n\u001b[0;32m-> 2902\u001b[0;31m             \u001b[0mindexer\u001b[0m \u001b[0;34m=\u001b[0m \u001b[0mself\u001b[0m\u001b[0;34m.\u001b[0m\u001b[0mcolumns\u001b[0m\u001b[0;34m.\u001b[0m\u001b[0mget_loc\u001b[0m\u001b[0;34m(\u001b[0m\u001b[0mkey\u001b[0m\u001b[0;34m)\u001b[0m\u001b[0;34m\u001b[0m\u001b[0;34m\u001b[0m\u001b[0m\n\u001b[0m\u001b[1;32m   2903\u001b[0m             \u001b[0;32mif\u001b[0m \u001b[0mis_integer\u001b[0m\u001b[0;34m(\u001b[0m\u001b[0mindexer\u001b[0m\u001b[0;34m)\u001b[0m\u001b[0;34m:\u001b[0m\u001b[0;34m\u001b[0m\u001b[0;34m\u001b[0m\u001b[0m\n\u001b[1;32m   2904\u001b[0m                 \u001b[0mindexer\u001b[0m \u001b[0;34m=\u001b[0m \u001b[0;34m[\u001b[0m\u001b[0mindexer\u001b[0m\u001b[0;34m]\u001b[0m\u001b[0;34m\u001b[0m\u001b[0;34m\u001b[0m\u001b[0m\n",
      "\u001b[0;32m/usr/local/anaconda3/lib/python3.8/site-packages/pandas/core/indexes/base.py\u001b[0m in \u001b[0;36mget_loc\u001b[0;34m(self, key, method, tolerance)\u001b[0m\n\u001b[1;32m   2889\u001b[0m                 \u001b[0;32mreturn\u001b[0m \u001b[0mself\u001b[0m\u001b[0;34m.\u001b[0m\u001b[0m_engine\u001b[0m\u001b[0;34m.\u001b[0m\u001b[0mget_loc\u001b[0m\u001b[0;34m(\u001b[0m\u001b[0mcasted_key\u001b[0m\u001b[0;34m)\u001b[0m\u001b[0;34m\u001b[0m\u001b[0;34m\u001b[0m\u001b[0m\n\u001b[1;32m   2890\u001b[0m             \u001b[0;32mexcept\u001b[0m \u001b[0mKeyError\u001b[0m \u001b[0;32mas\u001b[0m \u001b[0merr\u001b[0m\u001b[0;34m:\u001b[0m\u001b[0;34m\u001b[0m\u001b[0;34m\u001b[0m\u001b[0m\n\u001b[0;32m-> 2891\u001b[0;31m                 \u001b[0;32mraise\u001b[0m \u001b[0mKeyError\u001b[0m\u001b[0;34m(\u001b[0m\u001b[0mkey\u001b[0m\u001b[0;34m)\u001b[0m \u001b[0;32mfrom\u001b[0m \u001b[0merr\u001b[0m\u001b[0;34m\u001b[0m\u001b[0;34m\u001b[0m\u001b[0m\n\u001b[0m\u001b[1;32m   2892\u001b[0m \u001b[0;34m\u001b[0m\u001b[0m\n\u001b[1;32m   2893\u001b[0m         \u001b[0;32mif\u001b[0m \u001b[0mtolerance\u001b[0m \u001b[0;32mis\u001b[0m \u001b[0;32mnot\u001b[0m \u001b[0;32mNone\u001b[0m\u001b[0;34m:\u001b[0m\u001b[0;34m\u001b[0m\u001b[0;34m\u001b[0m\u001b[0m\n",
      "\u001b[0;31mKeyError\u001b[0m: (0, 0)"
     ]
    }
   ],
   "source": [
    "nb = naive_bayes(X_train, y_train)"
   ]
  },
  {
   "cell_type": "code",
   "execution_count": 123,
   "metadata": {},
   "outputs": [
    {
     "output_type": "stream",
     "name": "stdout",
     "text": [
      "              precision    recall  f1-score   support\n\n           0       0.72      0.93      0.81      1317\n           1       0.84      0.51      0.64       967\n\n    accuracy                           0.75      2284\n   macro avg       0.78      0.72      0.72      2284\nweighted avg       0.77      0.75      0.74      2284\n\n"
     ]
    }
   ],
   "source": [
    "# Test SKLearn Implementation\n",
    "from sklearn.naive_bayes import GaussianNB\n",
    "sk_nb = GaussianNB().fit(X_train, y_train)\n",
    "print(classification_report(y_dev, sk_nb.predict(X_dev)))"
   ]
  },
  {
   "cell_type": "code",
   "execution_count": null,
   "metadata": {},
   "outputs": [],
   "source": []
  }
 ]
}